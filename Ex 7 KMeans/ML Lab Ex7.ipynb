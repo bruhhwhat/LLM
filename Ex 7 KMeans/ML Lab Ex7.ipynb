{
  "nbformat": 4,
  "nbformat_minor": 0,
  "metadata": {
    "colab": {
      "provenance": []
    },
    "kernelspec": {
      "name": "python3",
      "display_name": "Python 3"
    },
    "language_info": {
      "name": "python"
    }
  },
  "cells": [
    {
      "cell_type": "markdown",
      "source": [
        "# Ex 7\n",
        "Use the given dataset and implement K-Means from scratch and use the sklearn K-Means implementation. Compare the results of both the implementations and write your inferences in the ipynb file itself."
      ],
      "metadata": {
        "id": "0g7C75Iczqik"
      }
    },
    {
      "cell_type": "code",
      "execution_count": null,
      "metadata": {
        "id": "ARO6Dr32enb3"
      },
      "outputs": [],
      "source": [
        "import pandas as pd\n",
        "import numpy as np\n",
        "import matplotlib.pyplot as plt\n",
        "from sklearn.cluster import KMeans\n",
        "from sklearn.metrics import accuracy_score\n",
        "from itertools import permutations\n",
        "\n",
        "import warnings\n",
        "warnings.filterwarnings('ignore')"
      ]
    },
    {
      "cell_type": "code",
      "source": [
        "df = pd.read_csv(\"data.csv\")"
      ],
      "metadata": {
        "id": "zKfqRsDOfKKi"
      },
      "execution_count": null,
      "outputs": []
    },
    {
      "cell_type": "code",
      "source": [
        "df.info()"
      ],
      "metadata": {
        "colab": {
          "base_uri": "https://localhost:8080/"
        },
        "id": "iDk2Q0l6fQ-q",
        "outputId": "9d3c4b65-5cd7-459a-805d-074067527573"
      },
      "execution_count": null,
      "outputs": [
        {
          "output_type": "stream",
          "name": "stdout",
          "text": [
            "<class 'pandas.core.frame.DataFrame'>\n",
            "RangeIndex: 200 entries, 0 to 199\n",
            "Data columns (total 5 columns):\n",
            " #   Column                  Non-Null Count  Dtype \n",
            "---  ------                  --------------  ----- \n",
            " 0   CustomerID              200 non-null    int64 \n",
            " 1   Gender                  200 non-null    object\n",
            " 2   Age                     200 non-null    int64 \n",
            " 3   Annual Income (k$)      200 non-null    int64 \n",
            " 4   Spending Score (1-100)  200 non-null    int64 \n",
            "dtypes: int64(4), object(1)\n",
            "memory usage: 7.9+ KB\n"
          ]
        }
      ]
    },
    {
      "cell_type": "code",
      "source": [
        "df.drop(['CustomerID'], axis = 1, inplace = True)\n",
        "\n",
        "df['Gender'] = df['Gender'].map({'Male': 0, 'Female': 1})"
      ],
      "metadata": {
        "id": "gg8x9mLmg3oy"
      },
      "execution_count": null,
      "outputs": []
    },
    {
      "cell_type": "code",
      "source": [
        "X = df[['Age', 'Spending Score (1-100)']].iloc[:, :].values"
      ],
      "metadata": {
        "id": "0h-vbTXni8X1"
      },
      "execution_count": null,
      "outputs": []
    },
    {
      "cell_type": "code",
      "source": [
        "wcss = []\n",
        "for i in range(1, 11):\n",
        "    kmeans = KMeans(n_clusters = i, init = 'k-means++', random_state = 42)\n",
        "    kmeans.fit(X)\n",
        "    wcss.append(kmeans.inertia_)\n",
        "plt.plot(range(1, 11), wcss, marker = 'o')\n",
        "plt.show()"
      ],
      "metadata": {
        "colab": {
          "base_uri": "https://localhost:8080/",
          "height": 430
        },
        "id": "1Epeyb-Vj0z6",
        "outputId": "b1b53e83-548b-4dd5-efb1-4010cb49c23d"
      },
      "execution_count": null,
      "outputs": [
        {
          "output_type": "display_data",
          "data": {
            "text/plain": [
              "<Figure size 640x480 with 1 Axes>"
            ],
            "image/png": "[encoded data removed]"
          },
          "metadata": {}
        }
      ]
    },
    {
      "cell_type": "markdown",
      "source": [
        "## K-Means - Sklearn"
      ],
      "metadata": {
        "id": "1m8w-EjE0So8"
      }
    },
    {
      "cell_type": "code",
      "source": [
        "kmeans = KMeans(n_clusters = 4, init = 'k-means++', random_state = 42)\n",
        "y_pred = kmeans.fit_predict(X)"
      ],
      "metadata": {
        "id": "i4WkOfR-j8Vk"
      },
      "execution_count": null,
      "outputs": []
    },
    {
      "cell_type": "markdown",
      "source": [
        "## K-Means - Scratch"
      ],
      "metadata": {
        "id": "QGIdmJ8yvwWg"
      }
    },
    {
      "cell_type": "code",
      "source": [
        "class KMeansScratch:\n",
        "    def __init__(self, n_clusters, max_iter=300):\n",
        "        self.n_clusters = n_clusters\n",
        "        self.max_iter = max_iter\n",
        "\n",
        "    def fit(self, X):\n",
        "        n_samples, n_features = X.shape\n",
        "        self.centroids = X[np.random.choice(n_samples, self.n_clusters, replace=False)]\n",
        "        for _ in range(self.max_iter):\n",
        "            labels = self.assign_clusters(X)\n",
        "            new_centroids = self.update_centroids(X, labels)\n",
        "            if np.allclose(self.centroids, new_centroids):\n",
        "                break\n",
        "            self.centroids = new_centroids\n",
        "        return labels\n",
        "\n",
        "    def assign_clusters(self, X):\n",
        "        distances = np.sqrt(((X - self.centroids[:, np.newaxis])**2).sum(axis=2))\n",
        "        return np.argmin(distances, axis=0)\n",
        "\n",
        "    def update_centroids(self, X, labels):\n",
        "        new_centroids = np.zeros_like(self.centroids)\n",
        "        for i in range(self.n_clusters):\n",
        "            new_centroids[i] = np.mean(X[labels == i], axis=0)\n",
        "        return new_centroids"
      ],
      "metadata": {
        "id": "fjVEuSeAknv8"
      },
      "execution_count": null,
      "outputs": []
    },
    {
      "cell_type": "code",
      "source": [
        "kmeans_scratch = KMeansScratch(n_clusters=4)\n",
        "y_pred1 = kmeans_scratch.fit(X)"
      ],
      "metadata": {
        "id": "YoHsjKR6vkoA"
      },
      "execution_count": null,
      "outputs": []
    },
    {
      "cell_type": "markdown",
      "source": [
        "## Inference\n"
      ],
      "metadata": {
        "id": "tpwNz_Ppzw1f"
      }
    },
    {
      "cell_type": "code",
      "source": [
        "print(\"Sklearn - labels: \\n\", y_pred)\n",
        "print(\"Scratch - labels: \\n\", y_pred1)"
      ],
      "metadata": {
        "colab": {
          "base_uri": "https://localhost:8080/"
        },
        "id": "s452fEGjv6L1",
        "outputId": "190be133-148b-4af2-de8b-5eed54b1f5c8"
      },
      "execution_count": null,
      "outputs": [
        {
          "output_type": "stream",
          "name": "stdout",
          "text": [
            "Sklearn - labels: \n",
            " [3 2 1 2 3 2 1 2 1 2 1 2 1 2 1 2 3 3 1 2 3 2 1 2 1 2 1 3 1 2 1 2 1 2 1 2 1\n",
            " 2 1 2 0 2 0 3 1 3 0 3 3 3 0 3 3 0 0 0 0 0 3 0 0 3 0 0 0 3 0 0 3 3 0 0 0 0\n",
            " 0 3 0 3 3 0 0 3 0 0 3 0 0 3 3 0 0 3 0 3 3 3 0 3 0 3 3 0 0 3 0 3 0 0 0 0 0\n",
            " 3 3 3 3 3 0 0 0 0 3 3 3 2 3 2 0 2 1 2 1 2 3 2 1 2 1 2 1 2 1 2 3 2 1 2 0 2\n",
            " 1 2 1 2 1 2 1 2 1 2 1 2 0 2 1 2 1 2 1 2 1 3 1 2 1 2 1 2 1 2 1 2 1 2 1 2 3\n",
            " 2 1 2 1 2 1 2 1 2 1 2 1 2 1 2]\n",
            "Scratch - labels: \n",
            " [2 1 0 1 2 1 0 1 0 1 0 1 0 1 0 1 2 2 0 1 2 1 0 1 0 1 3 2 0 1 0 1 0 1 0 1 0\n",
            " 1 0 1 3 1 3 2 0 2 3 2 2 2 3 2 2 3 3 3 3 3 2 3 3 2 3 3 3 2 3 3 2 2 3 3 3 3\n",
            " 3 2 3 2 2 3 3 2 3 3 2 3 3 2 2 3 3 2 3 3 2 2 3 2 3 2 2 3 3 2 3 2 3 3 3 3 3\n",
            " 2 2 2 2 2 3 3 3 3 2 2 2 1 2 1 3 1 0 1 0 1 2 1 0 1 0 1 0 1 0 1 2 1 0 1 3 1\n",
            " 0 1 0 1 0 1 0 1 0 1 0 1 3 1 0 1 0 1 0 1 0 2 0 1 0 1 0 1 0 1 0 1 0 1 0 1 3\n",
            " 1 0 1 0 1 0 1 0 1 0 1 0 1 0 1]\n"
          ]
        }
      ]
    },
    {
      "cell_type": "code",
      "source": [
        "best_acc = 0\n",
        "for perm in permutations(range(4)):\n",
        "    matched_labels = np.array([perm[label] for label in y_pred1])\n",
        "    acc = accuracy_score(y_pred, matched_labels)\n",
        "    if acc > best_acc:\n",
        "        best_acc = acc\n",
        "\n",
        "print(\"Accuracy: \", best_acc)"
      ],
      "metadata": {
        "colab": {
          "base_uri": "https://localhost:8080/"
        },
        "id": "UkLA7MdFwI5k",
        "outputId": "b6e23b6b-5f07-4892-af9a-d8e2bdaf1936"
      },
      "execution_count": null,
      "outputs": [
        {
          "output_type": "stream",
          "name": "stdout",
          "text": [
            "Accuracy:  0.985\n"
          ]
        }
      ]
    }
  ]
}