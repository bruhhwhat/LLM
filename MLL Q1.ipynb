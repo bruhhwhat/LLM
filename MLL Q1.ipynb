{
 "cells": [
  {
   "cell_type": "code",
   "execution_count": 42,
   "id": "c4105af0",
   "metadata": {},
   "outputs": [],
   "source": [
    "import pandas as pd\n",
    "import numpy as np\n",
    "from keras.datasets import mnist"
   ]
  },
  {
   "cell_type": "code",
   "execution_count": 51,
   "id": "01ce11cf",
   "metadata": {},
   "outputs": [
    {
     "name": "stdout",
     "output_type": "stream",
     "text": [
      "Training Data: (60000, 28, 28)\n",
      "Training Labels: (60000,)\n"
     ]
    }
   ],
   "source": [
    "(x_train, y_train), (x_test, y_test) = mnist.load_data()\n",
    "\n",
    "print('Training Data:',x_train.shape)\n",
    "print('Training Labels:', y_train.shape)"
   ]
  },
  {
   "cell_type": "code",
   "execution_count": 44,
   "id": "0d75a346",
   "metadata": {},
   "outputs": [
    {
     "name": "stdout",
     "output_type": "stream",
     "text": [
      "(60000, 784)\n",
      "(784,)\n"
     ]
    }
   ],
   "source": [
    "X = x_train.reshape(len(x_train),-1)\n",
    "Y = y_train\n",
    "\n",
    "X = X.astype(float) / 255.\n",
    "\n",
    "print(X.shape)\n",
    "print(X[0].shape)"
   ]
  },
  {
   "cell_type": "code",
   "execution_count": 45,
   "id": "50cb3cc7",
   "metadata": {},
   "outputs": [],
   "source": [
    "class KMeansScratch:\n",
    "    def __init__(self, n_clusters, max_iter=100):\n",
    "        self.n_clusters = n_clusters\n",
    "        self.max_iter = max_iter\n",
    "\n",
    "    def fit(self, X):\n",
    "        n_samples, n_features = X.shape\n",
    "        self.centroids = X[np.random.choice(n_samples, self.n_clusters, replace=False)]\n",
    "        for _ in range(self.max_iter):\n",
    "            labels = self.assign_clusters(X)\n",
    "            new_centroids = self.update_centroids(X, labels)\n",
    "            if np.allclose(self.centroids, new_centroids):\n",
    "                break\n",
    "            self.centroids = new_centroids\n",
    "        return labels\n",
    "\n",
    "    def assign_clusters(self, X):\n",
    "        distances = np.sqrt(((X - self.centroids[:, np.newaxis])**2).sum(axis=2))\n",
    "        return np.argmin(distances, axis=0)\n",
    "\n",
    "    def update_centroids(self, X, labels):\n",
    "        new_centroids = np.zeros_like(self.centroids)\n",
    "        for i in range(self.n_clusters):\n",
    "            new_centroids[i] = np.mean(X[labels == i], axis=0)\n",
    "        return new_centroids\n",
    "    \n",
    "    \n",
    "    First, we randomly initialize k points, called means or cluster centroids.\n",
    "    We categorize each item to its closest mean, and we update the mean’s coordinates, \n",
    "    which are the averages of the items categorized in that cluster so far.\n",
    "    We repeat the process for a given number of iterations and at the end, we have our clusters.\n"
   ]
  },
  {
   "cell_type": "code",
   "execution_count": 46,
   "id": "2b7ec429",
   "metadata": {},
   "outputs": [
    {
     "name": "stdout",
     "output_type": "stream",
     "text": [
      "10\n"
     ]
    }
   ],
   "source": [
    "n_digits = len(np.unique(y_test))\n",
    "print(n_digits)"
   ]
  },
  {
   "cell_type": "code",
   "execution_count": 47,
   "id": "7fe0bcb6",
   "metadata": {},
   "outputs": [],
   "source": [
    "Kmeans = KMeansScratch(n_clusters= n_digits)\n",
    "pred = Kmeans.fit(X)"
   ]
  },
  {
   "cell_type": "code",
   "execution_count": 48,
   "id": "e14c9a10",
   "metadata": {},
   "outputs": [
    {
     "name": "stdout",
     "output_type": "stream",
     "text": [
      "Labels: [6 4 0 ... 6 8 9]\n"
     ]
    }
   ],
   "source": [
    "print(\"Labels:\", clusters)"
   ]
  },
  {
   "cell_type": "code",
   "execution_count": 49,
   "id": "3e68d327",
   "metadata": {},
   "outputs": [],
   "source": [
    "def infer_cluster_labels(kmeans, actual_labels):\n",
    "    inferred_labels = {}\n",
    "\n",
    "    for i in range(kmeans.n_clusters):\n",
    "        labels = []\n",
    "        index = np.where(kmeans.labels_ == i)\n",
    "        labels.append(actual_labels[index])\n",
    "        if len(labels[0]) == 1:\n",
    "            counts = np.bincount(labels[0])\n",
    "        else:\n",
    "            counts = np.bincount(np.squeeze(labels))\n",
    "\n",
    "        if np.argmax(counts) in inferred_labels:\n",
    "            inferred_labels[np.argmax(counts)].append(i)\n",
    "        else:\n",
    "            inferred_labels[np.argmax(counts)] = [i]\n",
    "    return inferred_labels  \n",
    "\n",
    "def infer_data_labels(X_labels, cluster_labels):\n",
    "    predicted_labels = np.zeros(len(X_labels)).astype(np.uint8)\n",
    "    \n",
    "    for i, cluster in enumerate(X_labels):\n",
    "        for key, value in cluster_labels.items():\n",
    "            if cluster in value:\n",
    "                predicted_labels[i] = key\n",
    "                \n",
    "    return predicted_labels"
   ]
  },
  {
   "cell_type": "code",
   "execution_count": 50,
   "id": "07771d52",
   "metadata": {},
   "outputs": [
    {
     "name": "stdout",
     "output_type": "stream",
     "text": [
      "[0 4 3 1 7 2 1 0 1 1 7 1 7 8 1 1 2 0 8 1]\n",
      "[5 0 4 1 9 2 1 3 1 4 3 5 3 6 1 7 2 8 6 9]\n"
     ]
    }
   ],
   "source": [
    "cluster_labels = infer_cluster_labels(kmeans, Y)\n",
    "X_clusters = kmeans.predict(X)\n",
    "predicted_labels = infer_data_labels(pred, cluster_labels)\n",
    "print (predicted_labels[:20])\n",
    "print (Y[:20])"
   ]
  },
  {
   "cell_type": "code",
   "execution_count": null,
   "id": "fd9d5661",
   "metadata": {},
   "outputs": [],
   "source": []
  }
 ],
 "metadata": {
  "kernelspec": {
   "display_name": "Python 3 (ipykernel)",
   "language": "python",
   "name": "python3"
  },
  "language_info": {
   "codemirror_mode": {
    "name": "ipython",
    "version": 3
   },
   "file_extension": ".py",
   "mimetype": "text/x-python",
   "name": "python",
   "nbconvert_exporter": "python",
   "pygments_lexer": "ipython3",
   "version": "3.9.7"
  }
 },
 "nbformat": 4,
 "nbformat_minor": 5
}
